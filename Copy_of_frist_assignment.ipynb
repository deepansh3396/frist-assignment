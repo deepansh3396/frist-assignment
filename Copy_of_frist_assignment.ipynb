{
  "nbformat": 4,
  "nbformat_minor": 0,
  "metadata": {
    "colab": {
      "provenance": [],
      "toc_visible": true
    },
    "kernelspec": {
      "name": "python3",
      "display_name": "Python 3"
    },
    "language_info": {
      "name": "python"
    }
  },
  "cells": [
    {
      "cell_type": "code",
      "source": [
        "#Explain the key features of Python that make it a popular choice for programming?"
      ],
      "metadata": {
        "id": "n6Pg2mJQdIBY"
      },
      "execution_count": null,
      "outputs": []
    },
    {
      "cell_type": "code",
      "source": [
        "#keyfeatures\n",
        "#easy to learn >> python has a simple syntax that makes it easy to use\n",
        "#portable >> python is a cross platform language\n",
        "#open source >> python is free and open source software\n",
        "#standard library >> puthon comes with alarge standard library\n",
        "#object oriented >> python is a object oriented programming langauge\n",
        "#support multi programming models >> python support procedural, object oriented and functional programming\n",
        "#community support >> python has a large community support\n",
        "#frame works and libraies >>python has frame work and libraries for almost every application domain"
      ],
      "metadata": {
        "id": "UhyioHxRdM-n"
      },
      "execution_count": null,
      "outputs": []
    },
    {
      "cell_type": "code",
      "source": [
        "#Describe the role of predefined keywords in Python and provide examples of how they are used in a program?"
      ],
      "metadata": {
        "id": "G7nxpQ7yehep"
      },
      "execution_count": null,
      "outputs": []
    },
    {
      "cell_type": "code",
      "source": [
        "#predefined keywords >> keywords are the pre define words that holds a special meaning and have specfic purpose in python\n",
        "#for example if we write\n",
        "print(\"hello world!!\")"
      ],
      "metadata": {
        "colab": {
          "base_uri": "https://localhost:8080/"
        },
        "id": "fTFmunBxhRxJ",
        "outputId": "8a608906-072d-49ee-c32b-65f27c06cb85"
      },
      "execution_count": null,
      "outputs": [
        {
          "output_type": "stream",
          "name": "stdout",
          "text": [
            "hello world!!\n"
          ]
        }
      ]
    },
    {
      "cell_type": "code",
      "source": [
        "#similarly\n",
        "if 6 > 2:\n",
        "    print(\"grater\")\n"
      ],
      "metadata": {
        "colab": {
          "base_uri": "https://localhost:8080/"
        },
        "id": "rWqTYUNCnIU5",
        "outputId": "fa4d1ccb-d3ca-469a-b1f1-c7edda329370"
      },
      "execution_count": null,
      "outputs": [
        {
          "output_type": "stream",
          "name": "stdout",
          "text": [
            "grater\n"
          ]
        }
      ]
    },
    {
      "cell_type": "code",
      "source": [
        "#similary\n",
        "name = input(\"pleas enter your name :\")"
      ],
      "metadata": {
        "colab": {
          "base_uri": "https://localhost:8080/"
        },
        "id": "0bc2TRzXo4Ry",
        "outputId": "dc002507-9fe0-409f-a4ae-12f5313f3e7f"
      },
      "execution_count": null,
      "outputs": [
        {
          "name": "stdout",
          "output_type": "stream",
          "text": [
            "pleas enter your namr :deepansh\n"
          ]
        }
      ]
    },
    {
      "cell_type": "code",
      "source": [
        "name"
      ],
      "metadata": {
        "colab": {
          "base_uri": "https://localhost:8080/",
          "height": 35
        },
        "id": "bX-OYUIGqQjP",
        "outputId": "c68ab1e0-c010-4f6d-d5b0-2dbc457b3bcf"
      },
      "execution_count": null,
      "outputs": [
        {
          "output_type": "execute_result",
          "data": {
            "text/plain": [
              "'deepansh'"
            ],
            "application/vnd.google.colaboratory.intrinsic+json": {
              "type": "string"
            }
          },
          "metadata": {},
          "execution_count": 16
        }
      ]
    },
    {
      "cell_type": "code",
      "source": [
        "#here \"print\" \"if\" \"input\" these are the keywords which help us to run the code directly with the help of them"
      ],
      "metadata": {
        "id": "uH3lxbttqUrL"
      },
      "execution_count": null,
      "outputs": []
    },
    {
      "cell_type": "code",
      "source": [
        "#Compare and contrast mutable and immutable objects in Python with examples?"
      ],
      "metadata": {
        "id": "N79arMakrRBj"
      },
      "execution_count": null,
      "outputs": []
    },
    {
      "cell_type": "code",
      "source": [
        "#mutable objects >> mutable objects/containers whose state and values can be changed after they are created are called as mutable objects. list is a type of mutable objectwhich support item assignment and can be edited after they are created\n",
        "#immutable objects >> immutable objects/containers are those whose sts=ate and value can not be changed after they are created once. string is a type of immutable object which can not be edited after once its created\n",
        "#example of mutable objects >> list, dictionary, sets\n",
        "#example of immutable objects >> string, float, complex"
      ],
      "metadata": {
        "id": "BkLFUX4ErknI"
      },
      "execution_count": null,
      "outputs": []
    },
    {
      "cell_type": "code",
      "source": [
        "#Discuss the different types of operators in Python and provide examples of how they are used?"
      ],
      "metadata": {
        "id": "LmYtlKhl2l-K"
      },
      "execution_count": null,
      "outputs": []
    },
    {
      "cell_type": "code",
      "source": [
        "#operators in python >> special keywords/symbols that use to preform oprations on value or variables are known as operators in python. these opration are used to manage the data, to do computation of data or to make decision using data. the python oprators are as follow\n",
        "#arithmatic operators >> these operators are used to calculate the arthimetical operation in the data set\n",
        "#comparsion operators >> these operators are used to compare the thingd used in the data\n",
        "#logical operators >> these operators are used to make things logical as according to the data\n",
        "#bitwise operators >> this operator is used to compare the bit value between data\n",
        "#assignment operator >> this operator is used to assing the value to any variable\n",
        "#identity operator >> this operator compares the location of two object or variable\n",
        "#shift operator >> shift the bits by left or right ,it is of two types\n",
        "#left shift operator >> shift the bits to the left by a specified number of position by fillings zeros at the right\n",
        "#right shift operator >> remove the number of ekements in the binary or removes the last value\n",
        "#for example >>\n",
        "a = 3\n",
        "b = 6\n",
        "a+b"
      ],
      "metadata": {
        "colab": {
          "base_uri": "https://localhost:8080/"
        },
        "id": "ts-Unb4P27rL",
        "outputId": "b67b6cd2-a17c-48ac-b65e-bfc5bae31248"
      },
      "execution_count": null,
      "outputs": [
        {
          "output_type": "execute_result",
          "data": {
            "text/plain": [
              "9"
            ]
          },
          "metadata": {},
          "execution_count": 21
        }
      ]
    },
    {
      "cell_type": "code",
      "source": [
        "#simlarly\n",
        "a = 4\n",
        "b = 1\n",
        "a-b"
      ],
      "metadata": {
        "colab": {
          "base_uri": "https://localhost:8080/"
        },
        "id": "E5mE5Y146tJ9",
        "outputId": "5b047beb-5635-4c64-f66c-338308e4e95a"
      },
      "execution_count": null,
      "outputs": [
        {
          "output_type": "execute_result",
          "data": {
            "text/plain": [
              "3"
            ]
          },
          "metadata": {},
          "execution_count": 22
        }
      ]
    },
    {
      "cell_type": "code",
      "source": [
        "#similarly\n",
        "3 * 9"
      ],
      "metadata": {
        "colab": {
          "base_uri": "https://localhost:8080/"
        },
        "id": "SIuFuyyN60pE",
        "outputId": "d3ad3077-8081-419b-c376-9e967dab1f85"
      },
      "execution_count": null,
      "outputs": [
        {
          "output_type": "execute_result",
          "data": {
            "text/plain": [
              "27"
            ]
          },
          "metadata": {},
          "execution_count": 23
        }
      ]
    },
    {
      "cell_type": "code",
      "source": [
        "121 / 11"
      ],
      "metadata": {
        "colab": {
          "base_uri": "https://localhost:8080/"
        },
        "id": "oIBTfbqc7CAl",
        "outputId": "afed1123-0bf1-4fde-908a-0a7f372edcc1"
      },
      "execution_count": null,
      "outputs": [
        {
          "output_type": "execute_result",
          "data": {
            "text/plain": [
              "11.0"
            ]
          },
          "metadata": {},
          "execution_count": 24
        }
      ]
    },
    {
      "cell_type": "code",
      "source": [
        "#Explain the concept of type casting in Python with examples?"
      ],
      "metadata": {
        "id": "FLs2HDQF7OmN"
      },
      "execution_count": null,
      "outputs": []
    },
    {
      "cell_type": "code",
      "source": [
        "#type casting >> it is the process of changeing the data type of a value or object in python. while executing/computation of data using operators ther can be mismatch between the data type and upon running it , it will give an error , so to overcome this type of mismstch type casting is used in python.\n",
        "#for example\n",
        "a = '2'\n",
        "b = 5\n",
        "type(a)"
      ],
      "metadata": {
        "colab": {
          "base_uri": "https://localhost:8080/"
        },
        "id": "erGiejQG7qX-",
        "outputId": "19e2ffe7-f7e8-4148-ccf6-adb603ef10cf"
      },
      "execution_count": null,
      "outputs": [
        {
          "output_type": "execute_result",
          "data": {
            "text/plain": [
              "str"
            ]
          },
          "metadata": {},
          "execution_count": 27
        }
      ]
    },
    {
      "cell_type": "code",
      "source": [
        "a = '2'\n",
        "b = 5\n",
        "int(a)+b"
      ],
      "metadata": {
        "colab": {
          "base_uri": "https://localhost:8080/"
        },
        "id": "PVSoD4MKE1Cc",
        "outputId": "06aed021-8bdc-4445-ea9d-dce6b9bb144b"
      },
      "execution_count": null,
      "outputs": [
        {
          "output_type": "execute_result",
          "data": {
            "text/plain": [
              "7"
            ]
          },
          "metadata": {},
          "execution_count": 28
        }
      ]
    },
    {
      "cell_type": "code",
      "source": [
        "#string to intreger\n",
        "a = '2'\n",
        "print(type(a))\n",
        "print(type(int(a)))"
      ],
      "metadata": {
        "colab": {
          "base_uri": "https://localhost:8080/"
        },
        "id": "jo6Ph3_4FgFQ",
        "outputId": "d4307b41-ae19-4ad3-f25b-e9d6a59dc542"
      },
      "execution_count": null,
      "outputs": [
        {
          "output_type": "stream",
          "name": "stdout",
          "text": [
            "<class 'str'>\n",
            "<class 'int'>\n"
          ]
        }
      ]
    },
    {
      "cell_type": "code",
      "source": [
        "#float to intreger\n",
        "a = 6.8\n",
        "type(a)"
      ],
      "metadata": {
        "colab": {
          "base_uri": "https://localhost:8080/"
        },
        "id": "8hBJ28VDGByn",
        "outputId": "b18121fb-18ab-4906-8de8-44c8f738207f"
      },
      "execution_count": null,
      "outputs": [
        {
          "output_type": "execute_result",
          "data": {
            "text/plain": [
              "float"
            ]
          },
          "metadata": {},
          "execution_count": 31
        }
      ]
    },
    {
      "cell_type": "code",
      "source": [
        "int(a)"
      ],
      "metadata": {
        "colab": {
          "base_uri": "https://localhost:8080/"
        },
        "id": "06Sg9sdLGTJA",
        "outputId": "a66dc447-7db5-46f8-f2b5-fa12697029a2"
      },
      "execution_count": null,
      "outputs": [
        {
          "output_type": "execute_result",
          "data": {
            "text/plain": [
              "6"
            ]
          },
          "metadata": {},
          "execution_count": 32
        }
      ]
    },
    {
      "cell_type": "code",
      "source": [
        "b = 5.6\n",
        "type(b)\n",
        "flote_value  = int(b)\n",
        "type(flote_value)"
      ],
      "metadata": {
        "colab": {
          "base_uri": "https://localhost:8080/"
        },
        "id": "v9erNo27Ga-S",
        "outputId": "45a3a7bb-1f6d-4d18-a90c-5398b0413bb6"
      },
      "execution_count": null,
      "outputs": [
        {
          "output_type": "execute_result",
          "data": {
            "text/plain": [
              "int"
            ]
          },
          "metadata": {},
          "execution_count": 33
        }
      ]
    },
    {
      "cell_type": "code",
      "source": [
        "#interger to float\n",
        "a = 6\n",
        "type(a)"
      ],
      "metadata": {
        "colab": {
          "base_uri": "https://localhost:8080/"
        },
        "id": "__K5dkBIG9XC",
        "outputId": "ddefb710-eff2-45a9-98c9-8a33260974ea"
      },
      "execution_count": null,
      "outputs": [
        {
          "output_type": "execute_result",
          "data": {
            "text/plain": [
              "int"
            ]
          },
          "metadata": {},
          "execution_count": 34
        }
      ]
    },
    {
      "cell_type": "code",
      "source": [
        "b = float(a)\n",
        "b"
      ],
      "metadata": {
        "colab": {
          "base_uri": "https://localhost:8080/"
        },
        "id": "ZddnYP8gHuHX",
        "outputId": "3b2fe924-c216-4dfc-cd31-f0c52446e717"
      },
      "execution_count": null,
      "outputs": [
        {
          "output_type": "execute_result",
          "data": {
            "text/plain": [
              "6.0"
            ]
          },
          "metadata": {},
          "execution_count": 35
        }
      ]
    },
    {
      "cell_type": "code",
      "source": [
        "type(b)"
      ],
      "metadata": {
        "colab": {
          "base_uri": "https://localhost:8080/"
        },
        "id": "mgploOldH4GF",
        "outputId": "56b631bb-8616-47d7-e604-19ec2f6b9bd8"
      },
      "execution_count": null,
      "outputs": [
        {
          "output_type": "execute_result",
          "data": {
            "text/plain": [
              "float"
            ]
          },
          "metadata": {},
          "execution_count": 36
        }
      ]
    },
    {
      "cell_type": "code",
      "source": [
        "#How do conditional statements work in Python? Illustrate with examples?"
      ],
      "metadata": {
        "id": "WV0RjZXHICVr"
      },
      "execution_count": null,
      "outputs": []
    },
    {
      "cell_type": "code",
      "source": [
        "#conditional statements >> the statements that helps you to exicute the code decision based on some pre conditions. there are four types of conditional statements as follow\n",
        "#if statement >> execute when the condition is true.\n",
        "#if-else >> execute if, if the condition is true else execute the else block.\n",
        "#if-elif-else >> execute if, if the condition is true, execute elif if the condition in elif block is true and execute else if the frist 2 conditiond is not true\n",
        "#nasted if-else >> in this condition you can have multiple if else inside if else condition.\n",
        "#for example based on if statement\n",
        "temp = 30\n",
        "if temp>25:\n",
        "  print(\"room temp\")"
      ],
      "metadata": {
        "colab": {
          "base_uri": "https://localhost:8080/"
        },
        "id": "t8Rd9rdFILGd",
        "outputId": "3ca193fe-38f4-468e-b04c-79939c5ad03e"
      },
      "execution_count": null,
      "outputs": [
        {
          "output_type": "stream",
          "name": "stdout",
          "text": [
            "room temp\n"
          ]
        }
      ]
    },
    {
      "cell_type": "code",
      "source": [
        "#similarly\n",
        "weather = \"sunny\"\n",
        "if weather == (\"sunny\"):\n",
        "  print(\"i will play football\")"
      ],
      "metadata": {
        "colab": {
          "base_uri": "https://localhost:8080/"
        },
        "id": "4wM0xaI0U75L",
        "outputId": "36486dec-6828-434b-b323-a7175a1181f3"
      },
      "execution_count": null,
      "outputs": [
        {
          "output_type": "stream",
          "name": "stdout",
          "text": [
            "i will play football\n"
          ]
        }
      ]
    },
    {
      "cell_type": "code",
      "source": [
        "grade = 7\n",
        "co_cir = True\n",
        "if((grade >=7) and (co_cir == True)):\n",
        "  print(\"you're all rounder\")"
      ],
      "metadata": {
        "colab": {
          "base_uri": "https://localhost:8080/"
        },
        "id": "cCvycc8LV3Su",
        "outputId": "97d61659-e963-4daf-da1d-112c6b6899d3"
      },
      "execution_count": null,
      "outputs": [
        {
          "output_type": "stream",
          "name": "stdout",
          "text": [
            "you're all rounder\n"
          ]
        }
      ]
    },
    {
      "cell_type": "code",
      "source": [
        "#example based on if-else statement\n",
        "#if weather is not raint, i will go to play foolball, else i will watch movie\n",
        "weather = \"sunny\"\n",
        "if weather == \"sunny\":\n",
        "  print(\"i will play football\")\n",
        "else:\n",
        "    print(\"i will watch movie\")"
      ],
      "metadata": {
        "colab": {
          "base_uri": "https://localhost:8080/"
        },
        "id": "0882BLnQYJ73",
        "outputId": "8a9c6e56-4eb5-49bc-ba05-25c8f5220317"
      },
      "execution_count": null,
      "outputs": [
        {
          "output_type": "stream",
          "name": "stdout",
          "text": [
            "i will play football\n"
          ]
        }
      ]
    },
    {
      "cell_type": "code",
      "source": [
        "weather = \"rainy\"\n",
        "if weather == \"sunny\":\n",
        "  print(\"i will play footbaal\")\n",
        "else:\n",
        "  print(\"i will watch movie\")"
      ],
      "metadata": {
        "colab": {
          "base_uri": "https://localhost:8080/"
        },
        "id": "JPXhKgQ1bCJz",
        "outputId": "ed3f8e23-cbe9-4279-e940-3abb75d29792"
      },
      "execution_count": null,
      "outputs": [
        {
          "output_type": "stream",
          "name": "stdout",
          "text": [
            "i will watch movie\n"
          ]
        }
      ]
    },
    {
      "cell_type": "code",
      "source": [
        "#example based on if elif else statement\n",
        "a = 37\n",
        "if a > 50:\n",
        "  print(\"a is grater then 50\")\n",
        "elif a < 50:\n",
        "  print(\"a is less then 50\")\n",
        "else:\n",
        "  ptint(\"the number is equals to 50\")\n"
      ],
      "metadata": {
        "colab": {
          "base_uri": "https://localhost:8080/"
        },
        "id": "bW84Rf-QbrYv",
        "outputId": "ccce7421-e82a-4d32-e46e-c6ec0fa438de"
      },
      "execution_count": null,
      "outputs": [
        {
          "output_type": "stream",
          "name": "stdout",
          "text": [
            "a is less then 50\n"
          ]
        }
      ]
    },
    {
      "cell_type": "code",
      "source": [
        "#example based on nested if else condition\n",
        "x = 4\n",
        "y = 10\n",
        "if x > 5:\n",
        "  if y>5:\n",
        "      print(\"x and y are grater then 5\")\n",
        "  else:\n",
        "      print(\"x is grster then 5 but y is less then 5\")\n",
        "else:\n",
        "  print(\"x is less then 5\")\n"
      ],
      "metadata": {
        "colab": {
          "base_uri": "https://localhost:8080/"
        },
        "id": "OU5DkuTkgPOq",
        "outputId": "42c6dd54-86e7-4622-b10c-a06d0476bcb1"
      },
      "execution_count": null,
      "outputs": [
        {
          "output_type": "stream",
          "name": "stdout",
          "text": [
            "x is less then 5\n"
          ]
        }
      ]
    },
    {
      "cell_type": "code",
      "source": [
        "#Describe the different types of loops in Python and their use cases with examples?"
      ],
      "metadata": {
        "id": "il3QMx4dkfOc"
      },
      "execution_count": null,
      "outputs": []
    },
    {
      "cell_type": "code",
      "source": [
        "#loop statement >> it allows you to execute a block of code repeatedly. it is of two types\n",
        "#while loop >> in this loop the command will repeatedly execute a block of code untill the condition is met. \"while\" is the keyword used for while loop\n",
        "#for example\n",
        "n = 5\n",
        "i = 1\n",
        "while i < n:\n",
        "  print(i)\n",
        "  i = i+1"
      ],
      "metadata": {
        "colab": {
          "base_uri": "https://localhost:8080/"
        },
        "id": "KTIolQjcrSTJ",
        "outputId": "cb37d86b-422f-4a6a-d6a8-389c8a95e4f2"
      },
      "execution_count": null,
      "outputs": [
        {
          "output_type": "stream",
          "name": "stdout",
          "text": [
            "1\n",
            "2\n",
            "3\n",
            "4\n"
          ]
        }
      ]
    },
    {
      "cell_type": "code",
      "source": [
        "#in this example i<n\n",
        "# here, 0<5, the condition is true then it execute the second block of code that is print(i) >> i=0 >> i+1 = 0+1 = 1\n",
        "#similarly 1<5, the condition is true then it execute the second block of code that is print(i) >> i=1 >> i+1 = 1+1 = 2\n",
        "#similarly 2<5, the condition is true then it execute the second block of code that is print(i) >> i=2 >> i+1 = 2+1 = 3.\n",
        "#similarly 3<5, the condition is true then it execute the second block of chain that is print(i) >> i=3 >> i+1 = 3+1 = 4."
      ],
      "metadata": {
        "id": "zhlHcGRt2zq3"
      },
      "execution_count": null,
      "outputs": []
    },
    {
      "cell_type": "code",
      "source": [
        "#for loop >> a control flow statement for specifying iteration, which allow code to be execute repeatedly strings ,list are the example of for loop\n",
        "#for example\n",
        "for i in \"pwskills\":\n",
        "  print(i)\n"
      ],
      "metadata": {
        "colab": {
          "base_uri": "https://localhost:8080/"
        },
        "id": "DapxFZLa9Vvi",
        "outputId": "92eb03cd-5381-49bf-b5fc-3719b68ea5f9"
      },
      "execution_count": null,
      "outputs": [
        {
          "output_type": "stream",
          "name": "stdout",
          "text": [
            "p\n",
            "w\n",
            "s\n",
            "k\n",
            "i\n",
            "l\n",
            "l\n",
            "s\n"
          ]
        }
      ]
    },
    {
      "cell_type": "code",
      "source": [],
      "metadata": {
        "id": "enXApwyUriIi"
      },
      "execution_count": null,
      "outputs": []
    }
  ]
}